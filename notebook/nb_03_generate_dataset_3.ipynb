{
 "cells": [
  {
   "cell_type": "code",
   "execution_count": 23,
   "id": "708162fc",
   "metadata": {},
   "outputs": [],
   "source": [
    "import glob\n",
    "import os\n",
    "import random\n",
    "import sys"
   ]
  },
  {
   "cell_type": "code",
   "execution_count": 24,
   "id": "60d1b43c",
   "metadata": {},
   "outputs": [],
   "source": [
    "import numpy as np\n",
    "import pandas as pd"
   ]
  },
  {
   "cell_type": "code",
   "execution_count": 25,
   "id": "d2e7e972",
   "metadata": {},
   "outputs": [],
   "source": [
    "project_root = os.path.abspath(os.path.join(os.getcwd(), \"..\"))\n",
    "if project_root not in sys.path:\n",
    "    sys.path.append(project_root)\n",
    "\n",
    "from utils.npz_files import open_npz, open_npz_key, save_npz\n",
    "from utils.features import compute_cwru_features\n",
    "from utils.transform import extract_sequences"
   ]
  },
  {
   "cell_type": "code",
   "execution_count": 26,
   "id": "3b7817e7",
   "metadata": {},
   "outputs": [],
   "source": [
    "RANDOM_SEED = 42\n",
    "random.seed(RANDOM_SEED)\n",
    "np.random.seed(RANDOM_SEED)"
   ]
  },
  {
   "cell_type": "code",
   "execution_count": 27,
   "id": "95fcc2ea",
   "metadata": {},
   "outputs": [],
   "source": [
    "RPMS_LIST = [1730, 1750, 1772, 1797]\n",
    "FAULT_LIST = ['IR', 'B', 'OR@6', 'OR@3', 'OR@12']\n",
    "DIAMETER_LIST = [7, 14, 21, 28]\n",
    "END_LIST = ['FE', 'DE12', 'DE48']"
   ]
  },
  {
   "cell_type": "markdown",
   "id": "cfa3b421",
   "metadata": {},
   "source": [
    "## Create daframes"
   ]
  },
  {
   "cell_type": "code",
   "execution_count": 28,
   "id": "fa5f9079",
   "metadata": {},
   "outputs": [],
   "source": [
    "from tqdm import tqdm "
   ]
  },
  {
   "cell_type": "code",
   "execution_count": 29,
   "id": "36817ffd",
   "metadata": {},
   "outputs": [],
   "source": [
    "ANOMALY_ROWS = 8192\n",
    "NORMAL_ROWS = 8192"
   ]
  },
  {
   "cell_type": "code",
   "execution_count": 30,
   "id": "08f5d2b7",
   "metadata": {},
   "outputs": [],
   "source": [
    "ROOT_DATA_DIR = '../datasets/step2'\n",
    "ROOT_DATA_SERIES_DIR = '../datasets/step3'\n",
    "os.makedirs(ROOT_DATA_SERIES_DIR, exist_ok=True)"
   ]
  },
  {
   "cell_type": "code",
   "execution_count": 31,
   "id": "d57b7b89",
   "metadata": {},
   "outputs": [
    {
     "name": "stderr",
     "output_type": "stream",
     "text": [
      "100%|██████████| 322/322 [00:01<00:00, 262.04it/s]\n"
     ]
    },
    {
     "name": "stdout",
     "output_type": "stream",
     "text": [
      "df_normal.shape (65536, 15)\n"
     ]
    },
    {
     "name": "stderr",
     "output_type": "stream",
     "text": [
      "100%|██████████| 322/322 [01:45<00:00,  3.05it/s]"
     ]
    },
    {
     "name": "stdout",
     "output_type": "stream",
     "text": [
      "df_anomaly.shape (412672, 15)\n"
     ]
    },
    {
     "name": "stderr",
     "output_type": "stream",
     "text": [
      "\n"
     ]
    }
   ],
   "source": [
    "# select normal\n",
    "df_normal = None\n",
    "np_normal = None\n",
    "for dirpath, dirnames, filenames in os.walk(ROOT_DATA_DIR):\n",
    "    for fn in tqdm(filenames):\n",
    "        if not \"normal\" in fn.lower() or not fn.endswith(\".parquet\"):\n",
    "            continue\n",
    "\n",
    "        parquet_filepath = os.path.join(dirpath, fn)\n",
    "        df = pd.read_parquet(parquet_filepath)\n",
    "        npdata = open_npz_key(parquet_filepath.replace(\".parquet\", \".npz\"), \"a\")\n",
    "        if df_normal is None:\n",
    "            df_normal = df\n",
    "            np_normal = npdata\n",
    "        else:\n",
    "            df_normal = pd.concat((df_normal, df))\n",
    "            np_normal = np.vstack((np_normal, npdata))\n",
    "\n",
    "# sampling normal\n",
    "print(\"df_normal.shape\", df_normal.shape)\n",
    "num_normal = df_normal.shape[0]\n",
    "index_normal_selected = random.choices(list(range(num_normal)), k=NORMAL_ROWS)\n",
    "df_normal = df_normal.iloc[index_normal_selected]\n",
    "df_normal[\"anomaly\"] = 0\n",
    "# df_normal = df_normal\\\n",
    "#             .sample(NORMAL_ROWS, random_state=RANDOM_SEED)\\\n",
    "#             .reset_index(drop=True)\n",
    "np_normal = np_normal[index_normal_selected]\n",
    "\n",
    "\n",
    "df_anomaly = None\n",
    "np_anomaly = None\n",
    "for dirpath, dirnames, filenames in os.walk(ROOT_DATA_DIR):\n",
    "    for fn in tqdm(filenames):\n",
    "        if \"normal\" in fn.lower() or not fn.endswith(\".parquet\"):\n",
    "            continue\n",
    "\n",
    "        parquet_filepath = os.path.join(dirpath, fn)\n",
    "        df = pd.read_parquet(parquet_filepath)\n",
    "        npdata = open_npz_key(parquet_filepath.replace(\".parquet\", \".npz\"), \"a\")\n",
    "        if df_anomaly is None:\n",
    "            df_anomaly = df\n",
    "            np_anomaly = npdata\n",
    "        else:\n",
    "            df_anomaly = pd.concat((df_anomaly, df))\n",
    "            np_anomaly = np.vstack((np_anomaly, npdata))\n",
    "\n",
    "# sampling anomaly\n",
    "print(\"df_anomaly.shape\", df_anomaly.shape)\n",
    "num_anomaly = df_anomaly.shape[0]\n",
    "index_anomaly_selected = random.choices(list(range(num_anomaly)), k=ANOMALY_ROWS)\n",
    "df_anomaly = df_anomaly.iloc[index_anomaly_selected]\n",
    "df_anomaly[\"anomaly\"] = 1\n",
    "# df_anomaly = df_anomaly\\\n",
    "#             .sample(ANOMALY_ROWS, random_state=RANDOM_SEED)\\\n",
    "#             .reset_index(drop=True)\n",
    "np_anomaly = np_anomaly[index_anomaly_selected]"
   ]
  },
  {
   "cell_type": "code",
   "execution_count": 32,
   "id": "5bcae484",
   "metadata": {},
   "outputs": [],
   "source": [
    "df = pd.concat((df_normal, df_anomaly))\n",
    "np_data = np.vstack((np_normal, np_anomaly))\n",
    "\n",
    "\n",
    "# df = df.sample(frac=1).reset_index(drop=True)\n",
    "index_all = list(range(np_data.shape[0]))\n",
    "random.shuffle(index_all)\n",
    "\n",
    "\n",
    "df = df.iloc[index_all]\n",
    "np_data = np_data[index_all]"
   ]
  },
  {
   "cell_type": "code",
   "execution_count": 33,
   "id": "023f42dd",
   "metadata": {},
   "outputs": [],
   "source": [
    "output_filename = os.path.join(ROOT_DATA_SERIES_DIR, \"dataset.parquet\")\n",
    "df.to_parquet(output_filename, index=False)\n",
    "save_npz(output_filename.replace(\".parquet\", \".npz\"), a=np_data)"
   ]
  },
  {
   "cell_type": "code",
   "execution_count": 34,
   "id": "455b966d",
   "metadata": {},
   "outputs": [],
   "source": [
    "df = pd.read_parquet(output_filename)\n"
   ]
  },
  {
   "cell_type": "code",
   "execution_count": 35,
   "id": "f9f3f183",
   "metadata": {},
   "outputs": [
    {
     "data": {
      "text/html": [
       "<div>\n",
       "<style scoped>\n",
       "    .dataframe tbody tr th:only-of-type {\n",
       "        vertical-align: middle;\n",
       "    }\n",
       "\n",
       "    .dataframe tbody tr th {\n",
       "        vertical-align: top;\n",
       "    }\n",
       "\n",
       "    .dataframe thead th {\n",
       "        text-align: right;\n",
       "    }\n",
       "</style>\n",
       "<table border=\"1\" class=\"dataframe\">\n",
       "  <thead>\n",
       "    <tr style=\"text-align: right;\">\n",
       "      <th></th>\n",
       "      <th>maximum</th>\n",
       "      <th>minimum</th>\n",
       "      <th>mean</th>\n",
       "      <th>std</th>\n",
       "      <th>rms</th>\n",
       "      <th>skewness</th>\n",
       "      <th>kurtosis</th>\n",
       "      <th>crest_factor</th>\n",
       "      <th>form_factor</th>\n",
       "      <th>rpm</th>\n",
       "      <th>anomaly_type</th>\n",
       "      <th>diameter_fault</th>\n",
       "      <th>sampling_value</th>\n",
       "      <th>sampling_label</th>\n",
       "      <th>accelerometer</th>\n",
       "      <th>anomaly</th>\n",
       "    </tr>\n",
       "  </thead>\n",
       "  <tbody>\n",
       "    <tr>\n",
       "      <th>9858</th>\n",
       "      <td>9.612606</td>\n",
       "      <td>-8.644184</td>\n",
       "      <td>0.018901</td>\n",
       "      <td>2.334692</td>\n",
       "      <td>2.334199</td>\n",
       "      <td>0.036867</td>\n",
       "      <td>0.464266</td>\n",
       "      <td>4.118161</td>\n",
       "      <td>1.290133</td>\n",
       "      <td>1730</td>\n",
       "      <td>B</td>\n",
       "      <td>28.0</td>\n",
       "      <td>12.0</td>\n",
       "      <td>DE1</td>\n",
       "      <td>DE</td>\n",
       "      <td>1</td>\n",
       "    </tr>\n",
       "    <tr>\n",
       "      <th>2932</th>\n",
       "      <td>0.222593</td>\n",
       "      <td>-0.238447</td>\n",
       "      <td>0.011302</td>\n",
       "      <td>0.065588</td>\n",
       "      <td>0.066539</td>\n",
       "      <td>-0.198584</td>\n",
       "      <td>0.154071</td>\n",
       "      <td>3.345287</td>\n",
       "      <td>1.255593</td>\n",
       "      <td>1730</td>\n",
       "      <td>None</td>\n",
       "      <td>NaN</td>\n",
       "      <td>NaN</td>\n",
       "      <td>None</td>\n",
       "      <td>DE</td>\n",
       "      <td>0</td>\n",
       "    </tr>\n",
       "    <tr>\n",
       "      <th>12843</th>\n",
       "      <td>0.280651</td>\n",
       "      <td>-0.182444</td>\n",
       "      <td>0.033720</td>\n",
       "      <td>0.066050</td>\n",
       "      <td>0.074145</td>\n",
       "      <td>0.141900</td>\n",
       "      <td>-0.107158</td>\n",
       "      <td>3.785149</td>\n",
       "      <td>1.261062</td>\n",
       "      <td>1772</td>\n",
       "      <td>None</td>\n",
       "      <td>NaN</td>\n",
       "      <td>NaN</td>\n",
       "      <td>None</td>\n",
       "      <td>FE</td>\n",
       "      <td>0</td>\n",
       "    </tr>\n",
       "    <tr>\n",
       "      <th>5156</th>\n",
       "      <td>0.220715</td>\n",
       "      <td>-0.200479</td>\n",
       "      <td>0.012389</td>\n",
       "      <td>0.070482</td>\n",
       "      <td>0.071546</td>\n",
       "      <td>0.024511</td>\n",
       "      <td>-0.272400</td>\n",
       "      <td>3.084943</td>\n",
       "      <td>1.236751</td>\n",
       "      <td>1797</td>\n",
       "      <td>None</td>\n",
       "      <td>NaN</td>\n",
       "      <td>NaN</td>\n",
       "      <td>None</td>\n",
       "      <td>DE</td>\n",
       "      <td>0</td>\n",
       "    </tr>\n",
       "    <tr>\n",
       "      <th>2677</th>\n",
       "      <td>0.586716</td>\n",
       "      <td>-0.571447</td>\n",
       "      <td>0.002786</td>\n",
       "      <td>0.130161</td>\n",
       "      <td>0.130159</td>\n",
       "      <td>0.093741</td>\n",
       "      <td>2.467234</td>\n",
       "      <td>4.507689</td>\n",
       "      <td>1.375545</td>\n",
       "      <td>1772</td>\n",
       "      <td>OR@6</td>\n",
       "      <td>7.0</td>\n",
       "      <td>12.0</td>\n",
       "      <td>FE</td>\n",
       "      <td>DE</td>\n",
       "      <td>1</td>\n",
       "    </tr>\n",
       "  </tbody>\n",
       "</table>\n",
       "</div>"
      ],
      "text/plain": [
       "        maximum   minimum      mean       std       rms  skewness  kurtosis  \\\n",
       "9858   9.612606 -8.644184  0.018901  2.334692  2.334199  0.036867  0.464266   \n",
       "2932   0.222593 -0.238447  0.011302  0.065588  0.066539 -0.198584  0.154071   \n",
       "12843  0.280651 -0.182444  0.033720  0.066050  0.074145  0.141900 -0.107158   \n",
       "5156   0.220715 -0.200479  0.012389  0.070482  0.071546  0.024511 -0.272400   \n",
       "2677   0.586716 -0.571447  0.002786  0.130161  0.130159  0.093741  2.467234   \n",
       "\n",
       "       crest_factor  form_factor   rpm anomaly_type  diameter_fault  \\\n",
       "9858       4.118161     1.290133  1730            B            28.0   \n",
       "2932       3.345287     1.255593  1730         None             NaN   \n",
       "12843      3.785149     1.261062  1772         None             NaN   \n",
       "5156       3.084943     1.236751  1797         None             NaN   \n",
       "2677       4.507689     1.375545  1772         OR@6             7.0   \n",
       "\n",
       "       sampling_value sampling_label accelerometer  anomaly  \n",
       "9858             12.0            DE1            DE        1  \n",
       "2932              NaN           None            DE        0  \n",
       "12843             NaN           None            FE        0  \n",
       "5156              NaN           None            DE        0  \n",
       "2677             12.0             FE            DE        1  "
      ]
     },
     "execution_count": 35,
     "metadata": {},
     "output_type": "execute_result"
    }
   ],
   "source": [
    "df.sample(5)"
   ]
  }
 ],
 "metadata": {
  "kernelspec": {
   "display_name": "cwru",
   "language": "python",
   "name": "python3"
  },
  "language_info": {
   "codemirror_mode": {
    "name": "ipython",
    "version": 3
   },
   "file_extension": ".py",
   "mimetype": "text/x-python",
   "name": "python",
   "nbconvert_exporter": "python",
   "pygments_lexer": "ipython3",
   "version": "3.13.5"
  }
 },
 "nbformat": 4,
 "nbformat_minor": 5
}
