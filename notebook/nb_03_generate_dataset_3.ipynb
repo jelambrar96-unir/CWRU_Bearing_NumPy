{
 "cells": [
  {
   "cell_type": "code",
   "execution_count": 1,
   "id": "708162fc",
   "metadata": {},
   "outputs": [],
   "source": [
    "import glob\n",
    "import os\n",
    "import random\n",
    "import sys"
   ]
  },
  {
   "cell_type": "code",
   "execution_count": 2,
   "id": "60d1b43c",
   "metadata": {},
   "outputs": [],
   "source": [
    "import numpy as np\n",
    "import pandas as pd"
   ]
  },
  {
   "cell_type": "code",
   "execution_count": 3,
   "id": "d2e7e972",
   "metadata": {},
   "outputs": [],
   "source": [
    "project_root = os.path.abspath(os.path.join(os.getcwd(), \"..\"))\n",
    "if project_root not in sys.path:\n",
    "    sys.path.append(project_root)\n",
    "\n",
    "from utils.npz_files import open_npz, open_npz_key, save_npz\n",
    "from utils.features import compute_cwru_features\n",
    "from utils.transform import extract_sequences"
   ]
  },
  {
   "cell_type": "code",
   "execution_count": 4,
   "id": "3b7817e7",
   "metadata": {},
   "outputs": [],
   "source": [
    "RANDOM_SEED = 42\n",
    "random.seed(RANDOM_SEED)\n",
    "np.random.seed(RANDOM_SEED)"
   ]
  },
  {
   "cell_type": "code",
   "execution_count": 5,
   "id": "95fcc2ea",
   "metadata": {},
   "outputs": [],
   "source": [
    "RPMS_LIST = [1730, 1750, 1772, 1797]\n",
    "FAULT_LIST = ['IR', 'B', 'OR@6', 'OR@3', 'OR@12']\n",
    "DIAMETER_LIST = [7, 14, 21, 28]\n",
    "END_LIST = ['FE', 'DE12', 'DE48']"
   ]
  },
  {
   "cell_type": "markdown",
   "id": "cfa3b421",
   "metadata": {},
   "source": [
    "## Create daframes"
   ]
  },
  {
   "cell_type": "code",
   "execution_count": 6,
   "id": "fa5f9079",
   "metadata": {},
   "outputs": [],
   "source": [
    "from tqdm import tqdm "
   ]
  },
  {
   "cell_type": "code",
   "execution_count": 7,
   "id": "36817ffd",
   "metadata": {},
   "outputs": [],
   "source": [
    "ANOMALY_ROWS = 8192\n",
    "NORMAL_ROWS = 8192"
   ]
  },
  {
   "cell_type": "code",
   "execution_count": 8,
   "id": "08f5d2b7",
   "metadata": {},
   "outputs": [],
   "source": [
    "ROOT_DATA_DIR = '../datasets/step2'\n",
    "ROOT_DATA_SERIES_DIR = '../datasets/step3'\n",
    "os.makedirs(ROOT_DATA_SERIES_DIR, exist_ok=True)"
   ]
  },
  {
   "cell_type": "code",
   "execution_count": 9,
   "id": "d57b7b89",
   "metadata": {},
   "outputs": [
    {
     "name": "stderr",
     "output_type": "stream",
     "text": [
      "  0%|          | 0/322 [00:00<?, ?it/s]"
     ]
    },
    {
     "name": "stderr",
     "output_type": "stream",
     "text": [
      "100%|██████████| 322/322 [00:04<00:00, 72.85it/s]\n",
      "0it [00:00, ?it/s]\n",
      "0it [00:00, ?it/s]\n",
      "0it [00:00, ?it/s]\n",
      "0it [00:00, ?it/s]\n"
     ]
    },
    {
     "name": "stdout",
     "output_type": "stream",
     "text": [
      "df_normal.shape (65536, 17)\n"
     ]
    },
    {
     "name": "stderr",
     "output_type": "stream",
     "text": [
      "100%|██████████| 322/322 [01:12<00:00,  4.46it/s]\n",
      "0it [00:00, ?it/s]\n",
      "0it [00:00, ?it/s]\n",
      "0it [00:00, ?it/s]\n",
      "0it [00:00, ?it/s]"
     ]
    },
    {
     "name": "stdout",
     "output_type": "stream",
     "text": [
      "df_anomaly.shape (313344, 17)\n"
     ]
    },
    {
     "name": "stderr",
     "output_type": "stream",
     "text": [
      "\n"
     ]
    }
   ],
   "source": [
    "# select normal\n",
    "df_normal = None\n",
    "np_normal = None\n",
    "for dirpath, dirnames, filenames in os.walk(ROOT_DATA_DIR):\n",
    "    for fn in tqdm(filenames):\n",
    "        if not \"normal\" in fn.lower() or not fn.endswith(\".parquet\"):\n",
    "            continue\n",
    "\n",
    "        parquet_filepath = os.path.join(dirpath, fn)\n",
    "        df = pd.read_parquet(parquet_filepath)\n",
    "        npdata = open_npz_key(parquet_filepath.replace(\".parquet\", \".npz\"), \"a\")\n",
    "        if df_normal is None:\n",
    "            df_normal = df\n",
    "            np_normal = npdata\n",
    "        else:\n",
    "            df_normal = pd.concat((df_normal, df))\n",
    "            np_normal = np.vstack((np_normal, npdata))\n",
    "\n",
    "# sampling normal\n",
    "print(\"df_normal.shape\", df_normal.shape)\n",
    "num_normal = df_normal.shape[0]\n",
    "index_normal_selected = random.choices(list(range(num_normal)), k=NORMAL_ROWS)\n",
    "df_normal = df_normal.iloc[index_normal_selected]\n",
    "df_normal[\"anomaly\"] = 0\n",
    "# df_normal = df_normal\\\n",
    "#             .sample(NORMAL_ROWS, random_state=RANDOM_SEED)\\\n",
    "#             .reset_index(drop=True)\n",
    "np_normal = np_normal[index_normal_selected]\n",
    "\n",
    "\n",
    "df_anomaly = None\n",
    "np_anomaly = None\n",
    "for dirpath, dirnames, filenames in os.walk(ROOT_DATA_DIR):\n",
    "    for fn in tqdm(filenames):\n",
    "        if \"normal\" in fn.lower() or not fn.endswith(\".parquet\"):\n",
    "            continue\n",
    "\n",
    "        parquet_filepath = os.path.join(dirpath, fn)\n",
    "        df = pd.read_parquet(parquet_filepath)\n",
    "        npdata = open_npz_key(parquet_filepath.replace(\".parquet\", \".npz\"), \"a\")\n",
    "        if df_anomaly is None:\n",
    "            df_anomaly = df\n",
    "            np_anomaly = npdata\n",
    "        else:\n",
    "            df_anomaly = pd.concat((df_anomaly, df))\n",
    "            np_anomaly = np.vstack((np_anomaly, npdata))\n",
    "\n",
    "# sampling anomaly\n",
    "print(\"df_anomaly.shape\", df_anomaly.shape)\n",
    "num_anomaly = df_anomaly.shape[0]\n",
    "index_anomaly_selected = random.choices(list(range(num_anomaly)), k=ANOMALY_ROWS)\n",
    "df_anomaly = df_anomaly.iloc[index_anomaly_selected]\n",
    "df_anomaly[\"anomaly\"] = 1\n",
    "# df_anomaly = df_anomaly\\\n",
    "#             .sample(ANOMALY_ROWS, random_state=RANDOM_SEED)\\\n",
    "#             .reset_index(drop=True)\n",
    "np_anomaly = np_anomaly[index_anomaly_selected]"
   ]
  },
  {
   "cell_type": "code",
   "execution_count": 10,
   "id": "5bcae484",
   "metadata": {},
   "outputs": [],
   "source": [
    "df = pd.concat((df_normal, df_anomaly))\n",
    "np_data = np.vstack((np_normal, np_anomaly))\n",
    "\n",
    "\n",
    "# df = df.sample(frac=1).reset_index(drop=True)\n",
    "index_all = list(range(np_data.shape[0]))\n",
    "random.shuffle(index_all)\n",
    "\n",
    "\n",
    "df = df.iloc[index_all]\n",
    "np_data = np_data[index_all]"
   ]
  },
  {
   "cell_type": "markdown",
   "id": "e09c4ca2",
   "metadata": {},
   "source": [
    "### Dataset 03"
   ]
  },
  {
   "cell_type": "code",
   "execution_count": 11,
   "id": "e0bc0af1",
   "metadata": {},
   "outputs": [],
   "source": [
    "SELECTED_COLUMNS = [\n",
    "    \"maximum\",\n",
    "    \"minimum\",\n",
    "    \"mean\",\n",
    "    \"std\",\n",
    "    \"rms\",\n",
    "    \"skewness\",\n",
    "    \"kurtosis\",\n",
    "    \"crest_factor\",\n",
    "    \"form_factor\",\n",
    "    \"rpm\",\n",
    "    \"anomaly_type\",\n",
    "    \"diameter_fault\",\n",
    "    \"sampling_value\",\n",
    "    \"sampling_label\",\n",
    "    \"accelerometer\",\n",
    "    \"anomaly\"\n",
    "]\n",
    "\n",
    "df3 = df.copy()\n",
    "df3 = df3[SELECTED_COLUMNS]"
   ]
  },
  {
   "cell_type": "code",
   "execution_count": 12,
   "id": "023f42dd",
   "metadata": {},
   "outputs": [],
   "source": [
    "output_filename = os.path.join(ROOT_DATA_SERIES_DIR, \"dataset.parquet\")\n",
    "df3.to_parquet(output_filename, index=False)\n",
    "save_npz(output_filename.replace(\".parquet\", \".npz\"), a=np_data)"
   ]
  },
  {
   "cell_type": "code",
   "execution_count": 13,
   "id": "455b966d",
   "metadata": {},
   "outputs": [],
   "source": [
    "df3 = pd.read_parquet(output_filename)\n"
   ]
  },
  {
   "cell_type": "code",
   "execution_count": 14,
   "id": "f9f3f183",
   "metadata": {},
   "outputs": [
    {
     "data": {
      "text/html": [
       "<div>\n",
       "<style scoped>\n",
       "    .dataframe tbody tr th:only-of-type {\n",
       "        vertical-align: middle;\n",
       "    }\n",
       "\n",
       "    .dataframe tbody tr th {\n",
       "        vertical-align: top;\n",
       "    }\n",
       "\n",
       "    .dataframe thead th {\n",
       "        text-align: right;\n",
       "    }\n",
       "</style>\n",
       "<table border=\"1\" class=\"dataframe\">\n",
       "  <thead>\n",
       "    <tr style=\"text-align: right;\">\n",
       "      <th></th>\n",
       "      <th>maximum</th>\n",
       "      <th>minimum</th>\n",
       "      <th>mean</th>\n",
       "      <th>std</th>\n",
       "      <th>rms</th>\n",
       "      <th>skewness</th>\n",
       "      <th>kurtosis</th>\n",
       "      <th>crest_factor</th>\n",
       "      <th>form_factor</th>\n",
       "      <th>rpm</th>\n",
       "      <th>anomaly_type</th>\n",
       "      <th>diameter_fault</th>\n",
       "      <th>sampling_value</th>\n",
       "      <th>sampling_label</th>\n",
       "      <th>accelerometer</th>\n",
       "      <th>anomaly</th>\n",
       "    </tr>\n",
       "  </thead>\n",
       "  <tbody>\n",
       "    <tr>\n",
       "      <th>9858</th>\n",
       "      <td>1.175579</td>\n",
       "      <td>-0.868270</td>\n",
       "      <td>0.007074</td>\n",
       "      <td>0.183589</td>\n",
       "      <td>0.183680</td>\n",
       "      <td>0.276186</td>\n",
       "      <td>3.249519</td>\n",
       "      <td>6.400133</td>\n",
       "      <td>1.361418</td>\n",
       "      <td>1797</td>\n",
       "      <td>IR</td>\n",
       "      <td>14.0</td>\n",
       "      <td>12.0</td>\n",
       "      <td>FE</td>\n",
       "      <td>FE</td>\n",
       "      <td>1</td>\n",
       "    </tr>\n",
       "    <tr>\n",
       "      <th>2932</th>\n",
       "      <td>0.206738</td>\n",
       "      <td>-0.244497</td>\n",
       "      <td>0.011519</td>\n",
       "      <td>0.061864</td>\n",
       "      <td>0.062913</td>\n",
       "      <td>-0.273648</td>\n",
       "      <td>0.024957</td>\n",
       "      <td>3.286099</td>\n",
       "      <td>1.233060</td>\n",
       "      <td>1750</td>\n",
       "      <td>None</td>\n",
       "      <td>NaN</td>\n",
       "      <td>NaN</td>\n",
       "      <td>None</td>\n",
       "      <td>DE</td>\n",
       "      <td>0</td>\n",
       "    </tr>\n",
       "    <tr>\n",
       "      <th>12843</th>\n",
       "      <td>0.301813</td>\n",
       "      <td>-0.180184</td>\n",
       "      <td>0.028310</td>\n",
       "      <td>0.075886</td>\n",
       "      <td>0.080977</td>\n",
       "      <td>0.170158</td>\n",
       "      <td>-0.179512</td>\n",
       "      <td>3.727141</td>\n",
       "      <td>1.253164</td>\n",
       "      <td>1797</td>\n",
       "      <td>None</td>\n",
       "      <td>NaN</td>\n",
       "      <td>NaN</td>\n",
       "      <td>None</td>\n",
       "      <td>FE</td>\n",
       "      <td>0</td>\n",
       "    </tr>\n",
       "    <tr>\n",
       "      <th>5156</th>\n",
       "      <td>0.207990</td>\n",
       "      <td>-0.232815</td>\n",
       "      <td>0.013470</td>\n",
       "      <td>0.065289</td>\n",
       "      <td>0.066648</td>\n",
       "      <td>-0.285200</td>\n",
       "      <td>-0.025748</td>\n",
       "      <td>3.120694</td>\n",
       "      <td>1.235312</td>\n",
       "      <td>1730</td>\n",
       "      <td>None</td>\n",
       "      <td>NaN</td>\n",
       "      <td>NaN</td>\n",
       "      <td>None</td>\n",
       "      <td>DE</td>\n",
       "      <td>0</td>\n",
       "    </tr>\n",
       "    <tr>\n",
       "      <th>2677</th>\n",
       "      <td>0.908987</td>\n",
       "      <td>-0.920033</td>\n",
       "      <td>0.003088</td>\n",
       "      <td>0.238160</td>\n",
       "      <td>0.238122</td>\n",
       "      <td>0.035524</td>\n",
       "      <td>1.354609</td>\n",
       "      <td>3.817315</td>\n",
       "      <td>1.350510</td>\n",
       "      <td>1750</td>\n",
       "      <td>OR@3</td>\n",
       "      <td>14.0</td>\n",
       "      <td>12.0</td>\n",
       "      <td>FE</td>\n",
       "      <td>DE</td>\n",
       "      <td>1</td>\n",
       "    </tr>\n",
       "  </tbody>\n",
       "</table>\n",
       "</div>"
      ],
      "text/plain": [
       "        maximum   minimum      mean       std       rms  skewness  kurtosis  \\\n",
       "9858   1.175579 -0.868270  0.007074  0.183589  0.183680  0.276186  3.249519   \n",
       "2932   0.206738 -0.244497  0.011519  0.061864  0.062913 -0.273648  0.024957   \n",
       "12843  0.301813 -0.180184  0.028310  0.075886  0.080977  0.170158 -0.179512   \n",
       "5156   0.207990 -0.232815  0.013470  0.065289  0.066648 -0.285200 -0.025748   \n",
       "2677   0.908987 -0.920033  0.003088  0.238160  0.238122  0.035524  1.354609   \n",
       "\n",
       "       crest_factor  form_factor   rpm anomaly_type  diameter_fault  \\\n",
       "9858       6.400133     1.361418  1797           IR            14.0   \n",
       "2932       3.286099     1.233060  1750         None             NaN   \n",
       "12843      3.727141     1.253164  1797         None             NaN   \n",
       "5156       3.120694     1.235312  1730         None             NaN   \n",
       "2677       3.817315     1.350510  1750         OR@3            14.0   \n",
       "\n",
       "       sampling_value sampling_label accelerometer  anomaly  \n",
       "9858             12.0             FE            FE        1  \n",
       "2932              NaN           None            DE        0  \n",
       "12843             NaN           None            FE        0  \n",
       "5156              NaN           None            DE        0  \n",
       "2677             12.0             FE            DE        1  "
      ]
     },
     "execution_count": 14,
     "metadata": {},
     "output_type": "execute_result"
    }
   ],
   "source": [
    "df3.sample(5)"
   ]
  },
  {
   "cell_type": "markdown",
   "id": "84ad0eb9",
   "metadata": {},
   "source": [
    "### Dataset 05"
   ]
  },
  {
   "cell_type": "code",
   "execution_count": 15,
   "id": "2dd600cf",
   "metadata": {},
   "outputs": [],
   "source": [
    "SELECTED_COLUMNS = [\n",
    "    \"maximum\",\n",
    "    \"minimum\",\n",
    "    \"mean\",\n",
    "    \"std\",\n",
    "    \"rms\",\n",
    "    \"skewness\",\n",
    "    \"kurtosis\",\n",
    "    \"crest_factor\",\n",
    "    \"form_factor\",\n",
    "    \"thd\",\n",
    "    \"f0\",\n",
    "    \"rpm\",\n",
    "    \"anomaly_type\",\n",
    "    \"diameter_fault\",\n",
    "    \"sampling_value\",\n",
    "    \"sampling_label\",\n",
    "    \"accelerometer\",\n",
    "    \"anomaly\"\n",
    "]\n",
    "\n",
    "df5 = df.copy()\n",
    "df5 = df5[SELECTED_COLUMNS]"
   ]
  },
  {
   "cell_type": "code",
   "execution_count": 17,
   "id": "3e7597eb",
   "metadata": {},
   "outputs": [],
   "source": [
    "OUTPUT_STEP4_DIR = '../datasets/step4'\n",
    "os.makedirs(OUTPUT_STEP4_DIR, exist_ok=True)\n",
    "output_filename = os.path.join(OUTPUT_STEP4_DIR, \"dataset.parquet\")\n",
    "df5.to_parquet(output_filename, index=False)\n",
    "save_npz(output_filename.replace(\".parquet\", \".npz\"), a=np_data)"
   ]
  }
 ],
 "metadata": {
  "kernelspec": {
   "display_name": "cwru",
   "language": "python",
   "name": "python3"
  },
  "language_info": {
   "codemirror_mode": {
    "name": "ipython",
    "version": 3
   },
   "file_extension": ".py",
   "mimetype": "text/x-python",
   "name": "python",
   "nbconvert_exporter": "python",
   "pygments_lexer": "ipython3",
   "version": "3.10.18"
  }
 },
 "nbformat": 4,
 "nbformat_minor": 5
}
