{
 "cells": [
  {
   "cell_type": "code",
   "execution_count": 8,
   "id": "708162fc",
   "metadata": {},
   "outputs": [],
   "source": [
    "import glob\n",
    "import os\n",
    "import random\n",
    "import sys"
   ]
  },
  {
   "cell_type": "code",
   "execution_count": 9,
   "id": "60d1b43c",
   "metadata": {},
   "outputs": [],
   "source": [
    "import numpy as np\n",
    "import pandas as pd"
   ]
  },
  {
   "cell_type": "code",
   "execution_count": 10,
   "id": "d2e7e972",
   "metadata": {},
   "outputs": [],
   "source": [
    "project_root = os.path.abspath(os.path.join(os.getcwd(), \"..\"))\n",
    "if project_root not in sys.path:\n",
    "    sys.path.append(project_root)\n",
    "\n",
    "from utils.npz_files import open_npz, save_npz\n",
    "from utils.features import compute_cwru_features\n",
    "from utils.transform import extract_sequences"
   ]
  },
  {
   "cell_type": "code",
   "execution_count": 11,
   "id": "3b7817e7",
   "metadata": {},
   "outputs": [],
   "source": [
    "RANDOM_SEED = 42\n",
    "random.seed(RANDOM_SEED)\n",
    "np.random.seed(RANDOM_SEED)"
   ]
  },
  {
   "cell_type": "code",
   "execution_count": 12,
   "id": "95fcc2ea",
   "metadata": {},
   "outputs": [],
   "source": [
    "RPMS_LIST = [1730, 1750, 1772, 1797]\n",
    "FAULT_LIST = ['IR', 'B', 'OR@6', 'OR@3', 'OR@12']\n",
    "DIAMETER_LIST = [7, 14, 21, 28]\n",
    "END_LIST = ['FE', 'DE12', 'DE48']"
   ]
  },
  {
   "cell_type": "markdown",
   "id": "cfa3b421",
   "metadata": {},
   "source": [
    "## Create daframes"
   ]
  },
  {
   "cell_type": "code",
   "execution_count": 13,
   "id": "a3c0dc74",
   "metadata": {},
   "outputs": [],
   "source": [
    "from tqdm import tqdm"
   ]
  },
  {
   "cell_type": "code",
   "execution_count": 14,
   "id": "d57b7b89",
   "metadata": {},
   "outputs": [
    {
     "name": "stderr",
     "output_type": "stream",
     "text": [
      "0it [00:00, ?it/s]\n",
      "100%|██████████| 40/40 [00:16<00:00,  2.45it/s]\n",
      "100%|██████████| 40/40 [00:16<00:00,  2.43it/s]\n",
      "100%|██████████| 41/41 [00:16<00:00,  2.46it/s]\n",
      "100%|██████████| 40/40 [00:22<00:00,  1.81it/s]\n"
     ]
    }
   ],
   "source": [
    "ROOT_DATA_DIR = '../datasets/step1'\n",
    "ROOT_DATA_SERIES_DIR = '../datasets/step2'\n",
    "os.makedirs(ROOT_DATA_SERIES_DIR, exist_ok=True)\n",
    "\n",
    "for item in os.walk(ROOT_DATA_DIR):\n",
    "    input_directory = item[0]\n",
    "    output_directory = input_directory.replace(ROOT_DATA_DIR, ROOT_DATA_SERIES_DIR)\n",
    "    \n",
    "    for basefile in tqdm(item[2]):\n",
    "        base, ext = os.path.splitext(basefile)\n",
    "        if ext != '.npz':\n",
    "            continue\n",
    "\n",
    "        classification_labels = base.split('_')\n",
    "        # print(classification_labels)\n",
    "        is_normal = len(classification_labels) == 2\n",
    "\n",
    "        rpm_label = int(classification_labels[0])\n",
    "        anomaly_type = np.nan if is_normal else classification_labels[1]\n",
    "        diameter_fault = np.nan if is_normal else int(classification_labels[2])\n",
    "        sampling_value = np.nan if is_normal else \\\n",
    "                (12 if classification_labels[3] == 'FE' or '12' in classification_labels[3] else 48)\n",
    "        sampling_label = np.nan if is_normal else classification_labels[3][:3]\n",
    "        # print(is_normal, rpm_label, anomaly_type, diameter_fault, sampling_label, sampling_label)\n",
    "        # break\n",
    "\n",
    "        input_filepath = os.path.join(input_directory, basefile)\n",
    "        output_filepath = os.path.join(ROOT_DATA_SERIES_DIR, base + \".parquet\")\n",
    "        output_filepath_npz = os.path.join(ROOT_DATA_SERIES_DIR, base + \".npz\")\n",
    "\n",
    "        data = open_npz(input_filepath)\n",
    "        output_df = None\n",
    "        ouptut_npdata = None\n",
    "        for key_data in data.keys():\n",
    "            npdata = data[key_data]\n",
    "            df = compute_cwru_features(npdata)\n",
    "            n_rows = len(df)\n",
    "            df[\"rpm\"] = [rpm_label] * n_rows\n",
    "            df[\"anomaly_type\"] = [anomaly_type] * n_rows\n",
    "            df[\"diameter_fault\"] = [diameter_fault] * n_rows\n",
    "            df[\"sampling_value\"] = [sampling_value] * n_rows\n",
    "            df[\"sampling_label\"] = [sampling_label] * n_rows\n",
    "            df[\"accelerometer\"] = [key_data] * n_rows\n",
    "            \n",
    "            if output_df is None:\n",
    "                output_df = df\n",
    "                ouptut_npdata = npdata\n",
    "            else:\n",
    "                output_df = pd.concat((output_df, df))\n",
    "                ouptut_npdata = np.vstack((ouptut_npdata, npdata))\n",
    "        \n",
    "        output_df.to_parquet(output_filepath, index=False)\n",
    "        save_npz(output_filepath_npz, a=ouptut_npdata)\n"
   ]
  }
 ],
 "metadata": {
  "kernelspec": {
   "display_name": "cwru",
   "language": "python",
   "name": "python3"
  },
  "language_info": {
   "codemirror_mode": {
    "name": "ipython",
    "version": 3
   },
   "file_extension": ".py",
   "mimetype": "text/x-python",
   "name": "python",
   "nbconvert_exporter": "python",
   "pygments_lexer": "ipython3",
   "version": "3.13.5"
  }
 },
 "nbformat": 4,
 "nbformat_minor": 5
}
