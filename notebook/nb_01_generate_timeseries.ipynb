{
 "cells": [
  {
   "cell_type": "code",
   "execution_count": 2,
   "id": "708162fc",
   "metadata": {},
   "outputs": [],
   "source": [
    "import glob\n",
    "import os\n",
    "import random\n",
    "import sys"
   ]
  },
  {
   "cell_type": "code",
   "execution_count": 3,
   "id": "60d1b43c",
   "metadata": {},
   "outputs": [],
   "source": [
    "import numpy as np"
   ]
  },
  {
   "cell_type": "code",
   "execution_count": 4,
   "id": "d2e7e972",
   "metadata": {},
   "outputs": [],
   "source": [
    "project_root = os.path.abspath(os.path.join(os.getcwd(), \"..\"))\n",
    "if project_root not in sys.path:\n",
    "    sys.path.append(project_root)\n",
    "\n",
    "from utils.npz_files import open_npz, save_npz\n",
    "from utils.features import compute_cwru_features\n",
    "from utils.transform import extract_sequences"
   ]
  },
  {
   "cell_type": "code",
   "execution_count": 5,
   "id": "3b7817e7",
   "metadata": {},
   "outputs": [],
   "source": [
    "RANDOM_SEED = 42\n",
    "random.seed(RANDOM_SEED)\n",
    "np.random.seed(RANDOM_SEED)"
   ]
  },
  {
   "cell_type": "code",
   "execution_count": 6,
   "id": "95fcc2ea",
   "metadata": {},
   "outputs": [],
   "source": [
    "RPMS_LIST = [1730, 1750, 1772, 1797]\n",
    "FAULT_LIST = ['IR', 'B', 'OR@6', 'OR@3', 'OR@12']\n",
    "DIAMETER_LIST = [7, 14, 21, 28]\n",
    "END_LIST = ['FE', 'DE12', 'DE48']"
   ]
  },
  {
   "cell_type": "markdown",
   "id": "cfa3b421",
   "metadata": {},
   "source": [
    "## Open normal data"
   ]
  },
  {
   "cell_type": "code",
   "execution_count": 7,
   "id": "231316db",
   "metadata": {},
   "outputs": [],
   "source": [
    "from tqdm import tqdm"
   ]
  },
  {
   "cell_type": "code",
   "execution_count": 8,
   "id": "d57b7b89",
   "metadata": {},
   "outputs": [
    {
     "name": "stderr",
     "output_type": "stream",
     "text": [
      "0it [00:00, ?it/s]\n",
      "100%|██████████| 40/40 [00:03<00:00, 11.16it/s]\n",
      "100%|██████████| 40/40 [00:03<00:00, 11.49it/s]\n",
      "100%|██████████| 41/41 [00:03<00:00, 11.68it/s]\n",
      "100%|██████████| 40/40 [00:03<00:00, 11.23it/s]\n"
     ]
    }
   ],
   "source": [
    "ROOT_DATA_DIR = '../Data'\n",
    "ROOT_DATA_SERIES_DIR = '../datasets/step1'\n",
    "\n",
    "for item in os.walk(ROOT_DATA_DIR):\n",
    "    input_directory = item[0]\n",
    "    output_directory = input_directory.replace(ROOT_DATA_DIR, ROOT_DATA_SERIES_DIR)\n",
    "    os.makedirs(output_directory, exist_ok=True)\n",
    "    \n",
    "    for basefile in tqdm(item[2]):\n",
    "        if os.path.splitext(basefile)[1] != '.npz':\n",
    "            continue\n",
    "\n",
    "        input_filepath = os.path.join(input_directory, basefile)\n",
    "        output_filepath = os.path.join(output_directory, basefile)\n",
    "        \n",
    "        # print((input_filepath, output_filepath))\n",
    "        data = open_npz(input_filepath)\n",
    "        output_data = {}\n",
    "        for k in data.keys():\n",
    "            if k == 'BA': continue # ignore BA\n",
    "            len_time_series = data[k].shape[0]\n",
    "            number_rows = 8192 if \"normal\" in input_filepath.lower() else 1024\n",
    "            transformed_data = extract_sequences(data[k], number_rows, 2048, random_seed=RANDOM_SEED)\n",
    "            output_data[k] = transformed_data\n",
    "        \n",
    "        save_npz(output_filepath, **output_data)"
   ]
  }
 ],
 "metadata": {
  "kernelspec": {
   "display_name": "cwru",
   "language": "python",
   "name": "python3"
  },
  "language_info": {
   "codemirror_mode": {
    "name": "ipython",
    "version": 3
   },
   "file_extension": ".py",
   "mimetype": "text/x-python",
   "name": "python",
   "nbconvert_exporter": "python",
   "pygments_lexer": "ipython3",
   "version": "3.13.5"
  }
 },
 "nbformat": 4,
 "nbformat_minor": 5
}
